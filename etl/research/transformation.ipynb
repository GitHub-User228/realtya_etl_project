{
 "cells": [
  {
   "cell_type": "code",
   "execution_count": 16,
   "id": "725f3ab4-dab1-4374-b891-824bafe5c440",
   "metadata": {},
   "outputs": [],
   "source": [
    "from etl.utils import read_table_from_database\n",
    "from etl.transformer import RealtyYaTransformer"
   ]
  },
  {
   "cell_type": "code",
   "execution_count": 17,
   "id": "f1e37244-0e9d-431c-8cba-5bb5ae9d2391",
   "metadata": {},
   "outputs": [],
   "source": [
    "df = read_table_from_database(table_name='realty', is_source_db=True)"
   ]
  },
  {
   "cell_type": "code",
   "execution_count": 14,
   "id": "26be0259-7c69-455b-a5f1-cc3fc1042388",
   "metadata": {},
   "outputs": [
    {
     "name": "stdout",
     "output_type": "stream",
     "text": [
      "[2024-07-13 16:25:53,284: 246: logger: INFO: transformer:  STARTING TRANSFORMING STAGE]\n",
      "[2024-07-13 16:25:53,298: 264: logger: INFO: transformer:  Feature flat_type has been transformed]\n",
      "[2024-07-13 16:25:53,312: 264: logger: INFO: transformer:  Feature main_info has been transformed]\n",
      "[2024-07-13 16:25:53,327: 264: logger: INFO: transformer:  Feature fee_info has been transformed]\n",
      "[2024-07-13 16:25:53,386: 122: logger: INFO: utils:  Table addresses has been read from the source database]\n",
      "[2024-07-13 16:27:04,293: 163: logger: INFO: utils:  Table addresses has been appended to the existing table to the source database]\n",
      "[2024-07-13 16:27:04,305: 264: logger: INFO: transformer:  Feature address_info has been transformed]\n",
      "[2024-07-13 16:27:04,343: 264: logger: INFO: transformer:  Feature extra_features has been transformed]\n",
      "[2024-07-13 16:27:04,344: 273: logger: INFO: transformer:  ENDING TRANSFORMING STAGE]\n"
     ]
    }
   ],
   "source": [
    "component = RealtyYaTransformer()\n",
    "df = component.transform(df=df, return_data=True, save_data=True)"
   ]
  }
 ],
 "metadata": {
  "kernelspec": {
   "display_name": "Python 3 (ipykernel)",
   "language": "python",
   "name": "python3"
  },
  "language_info": {
   "codemirror_mode": {
    "name": "ipython",
    "version": 3
   },
   "file_extension": ".py",
   "mimetype": "text/x-python",
   "name": "python",
   "nbconvert_exporter": "python",
   "pygments_lexer": "ipython3",
   "version": "3.11.9"
  }
 },
 "nbformat": 4,
 "nbformat_minor": 5
}
